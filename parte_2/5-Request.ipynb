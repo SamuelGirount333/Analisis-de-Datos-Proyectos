{
 "cells": [
  {
   "cell_type": "markdown",
   "metadata": {},
   "source": [
    "# Request (Libreria 2)\n",
    "<p style='text-align: justify;'>La biblioteca de solicitudes es el estándar para realizar solicitudes HTTP en Python. Resume las complejidades de realizar solicitudes detrás de comandos simples para que pueda concentrarse en interactuar con los servicios y consumir datos en su aplicación o proyecto.</p>\n",
    "\n",
    "https://cosasdedevs.com/posts/web-scraping-con-requests-y-beautifulsoup-en-python/"
   ]
  },
  {
   "cell_type": "code",
   "execution_count": null,
   "metadata": {},
   "outputs": [],
   "source": [
    "import requests # Como se usa anaconda, el módulo Conda trae, importa de manera automática"
   ]
  },
  {
   "cell_type": "code",
   "execution_count": null,
   "metadata": {},
   "outputs": [],
   "source": [
    "#Trae un archivo de texto que esta publicado en internet\n",
    "res = requests.get('https://automatetheboringstuff.com/files/rj.txt')"
   ]
  },
  {
   "cell_type": "code",
   "execution_count": null,
   "metadata": {},
   "outputs": [],
   "source": [
    "res.text"
   ]
  },
  {
   "cell_type": "markdown",
   "metadata": {},
   "source": [
    "* En una utilidad de telegram es hacer mini blogs o Wikis: https://telegra.ph/Programa-2-12-15-2"
   ]
  },
  {
   "cell_type": "code",
   "execution_count": null,
   "metadata": {},
   "outputs": [],
   "source": [
    "res1 = requests.get('https://telegra.ph/Programa-2-12-15-2')\n",
    "# Trae un archivo de texto que esta publicado en internet"
   ]
  },
  {
   "cell_type": "code",
   "execution_count": null,
   "metadata": {},
   "outputs": [],
   "source": [
    "res # Se comprueba la conexión, y responde con un codigo como: 404, 500, 200..."
   ]
  },
  {
   "cell_type": "markdown",
   "metadata": {},
   "source": [
    "#### Consultar en detalle: https://developer.mozilla.org/es/docs/Web/HTTP/Status"
   ]
  },
  {
   "cell_type": "code",
   "execution_count": null,
   "metadata": {},
   "outputs": [],
   "source": [
    "res.status_code == requests.codes.ok # Una validación según el código recibido"
   ]
  },
  {
   "cell_type": "code",
   "execution_count": null,
   "metadata": {},
   "outputs": [],
   "source": [
    "len(res.text) # Longitud o caracteres del archivo"
   ]
  },
  {
   "cell_type": "code",
   "execution_count": null,
   "metadata": {},
   "outputs": [],
   "source": [
    "print(res1.text) # Muestra el contenido de la página"
   ]
  },
  {
   "cell_type": "code",
   "execution_count": null,
   "metadata": {},
   "outputs": [],
   "source": [
    "pagina=requests.get(\"https://gist.github.com/jsdario/1daee22f3f13fe6bc6a343f829565759#file-la_biblioteca_de_babel-txt\")"
   ]
  },
  {
   "cell_type": "code",
   "execution_count": null,
   "metadata": {},
   "outputs": [],
   "source": [
    "pagina.text"
   ]
  },
  {
   "cell_type": "markdown",
   "metadata": {},
   "source": [
    "Nuestras necesidades como analistas de datos son mayores a solo descargar libros en internet o ver páginas. Un ejemplo de ello son las información de la bolsa de valores."
   ]
  },
  {
   "attachments": {
    "image-2.png": {
     "image/png": "[encoded data removed]"
    },
    "image.png": {
     "image/png": "[encoded data removed]"
    }
   },
   "cell_type": "markdown",
   "metadata": {},
   "source": [
    "https://finance.yahoo.com/quote/ECOPETROL.CL/history?p=ECOPETROL.CL\n",
    "\n",
    "#### Analíce el nombre y en la ruta de la página el siguiente detalle: Ecopetrol S.A. (EC)\n",
    "![image.png](attachment:image.png)\n",
    "\n",
    "![image-2.png](attachment:image-2.png)\n",
    "<hr>\n",
    "\n",
    "## Filtar el informe por fechas, mostar los datos guardarlo en Excel\n",
    "\n",
    "Al analizar la ruta de los datos tenemos\n",
    "https://finance.yahoo.com/quote/EC/history/?period1=1672549200&period2=1744261200\n",
    "\n",
    "Yahoo espera los parametros: Fecha inicial, fecha final"
   ]
  },
  {
   "cell_type": "code",
   "execution_count": null,
   "metadata": {},
   "outputs": [],
   "source": [
    "from datetime import datetime as dt # Libreria para trabajar con fechas"
   ]
  },
  {
   "cell_type": "code",
   "execution_count": null,
   "metadata": {},
   "outputs": [],
   "source": [
    "now=dt.utcnow() # Captura la fecha del sistema"
   ]
  },
  {
   "cell_type": "code",
   "execution_count": null,
   "metadata": {},
   "outputs": [],
   "source": [
    "now # Imprime la fecha del sistema"
   ]
  },
  {
   "cell_type": "code",
   "execution_count": null,
   "metadata": {},
   "outputs": [],
   "source": [
    "dt.utcnow().timestamp() # Mide el número de segundos desde una fecha determinada"
   ]
  },
  {
   "cell_type": "markdown",
   "metadata": {},
   "source": [
    "### Se definen las fechas de los datos de ecopetrol"
   ]
  },
  {
   "cell_type": "code",
   "execution_count": null,
   "metadata": {},
   "outputs": [],
   "source": [
    "start = dt.strptime('01-01-2023', '%d-%m-%Y').timestamp() # Enero de 2023 (consultar strptime)\n",
    "finish = dt.strptime('01-01-2025', '%d-%m-%Y').timestamp() # Enero 01 de 2025"
   ]
  },
  {
   "cell_type": "code",
   "execution_count": null,
   "metadata": {},
   "outputs": [],
   "source": [
    "start = int(start) # El resultado anterior esta como cadena, asi que se debe pasar a entreo\n",
    "finish = int(finish)"
   ]
  },
  {
   "cell_type": "code",
   "execution_count": null,
   "metadata": {},
   "outputs": [],
   "source": [
    "print(\"Fecha inicial:\",start);print (\"Fecha final:\",finish)"
   ]
  },
  {
   "cell_type": "code",
   "execution_count": null,
   "metadata": {},
   "outputs": [],
   "source": [
    "# Se pasan los parameros manualmente NO OPTIMO!!!\n",
    "url='https://finance.yahoo.com/quote/EC/history/?period1=1672549200&period2=1735707600'"
   ]
  },
  {
   "cell_type": "code",
   "execution_count": null,
   "metadata": {},
   "outputs": [],
   "source": [
    "# Esto esta mejor!!!\n",
    "url=f'https://finance.yahoo.com/quote/EC/history/?period1={start}&period2={finish}'"
   ]
  },
  {
   "cell_type": "code",
   "execution_count": null,
   "metadata": {},
   "outputs": [],
   "source": [
    "url"
   ]
  },
  {
   "cell_type": "code",
   "execution_count": null,
   "metadata": {},
   "outputs": [],
   "source": [
    "import requests\n",
    "from bs4 import BeautifulSoup # Libreria que extrae datos de una página, ver siguiente libro\n",
    "import pandas as pd\n",
    "\n",
    "# 1. Configurar la URL y headers (para evitar bloqueos)\n",
    "url = \"https://finance.yahoo.com/quote/EC/history/?period1=1672549200&period2=1744261200\"\n",
    "headers = {\n",
    "    \"User-Agent\": \"Mozilla/5.0 (Windows NT 10.0; Win64; x64) AppleWebKit/537.36 (KHTML, like Gecko) Chrome/91.0.4472.124 Safari/537.36\"\n",
    "}\n",
    "\n",
    "# 2. Obtener el HTML de la página\n",
    "response = requests.get(url, headers=headers)\n",
    "soup = BeautifulSoup(response.text, 'html.parser')\n",
    "\n",
    "soup"
   ]
  },
  {
   "cell_type": "code",
   "execution_count": null,
   "metadata": {},
   "outputs": [],
   "source": [
    "tabla = soup.select_one('table.table.noDl.yf-1jecxey')\n",
    "print(tabla)"
   ]
  },
  {
   "cell_type": "code",
   "execution_count": null,
   "metadata": {},
   "outputs": [],
   "source": [
    "# 4. Extraer filas y columnas\n",
    "filas = tabla.find_all('tr')\n",
    "encabezados = [th.get_text() for th in filas[0].find_all('th')]  # ['Date', 'Open', ...]\n",
    "datos = []\n",
    "\n",
    "for fila in filas[1:-1]:  # Ignorar la primera fila (headers) y la última (divisor)\n",
    "    celdas = fila.find_all('td')\n",
    "    datos.append([celda.get_text() for celda in celdas])\n",
    "\n",
    "# 5. Convertir a DataFrame de pandas\n",
    "df = pd.DataFrame(datos, columns=encabezados)\n",
    "df.head()  # Mostrar primeras filas\n"
   ]
  },
  {
   "cell_type": "code",
   "execution_count": null,
   "metadata": {},
   "outputs": [],
   "source": [
    "# Las columnas 4 y 5 tinen titulos muy extensos, asi que se arreglan:\n",
    "# Renombrar columnas DIRECTAMENTE en el DataFrame\n",
    "df = df.rename(columns={\n",
    "    encabezados[4]: \"Close\",      # Columna 5 (índice 4) → \"Close\"\n",
    "    encabezados[5]: \"Adj Close\"   # Columna 6 (índice 5) → \"Adj Close\"\n",
    "})"
   ]
  },
  {
   "cell_type": "code",
   "execution_count": null,
   "metadata": {},
   "outputs": [],
   "source": [
    "df"
   ]
  },
  {
   "cell_type": "code",
   "execution_count": null,
   "metadata": {},
   "outputs": [],
   "source": [
    "# Opcional: Guardar en CSV\n",
    "fecha = dt.fromtimestamp(finish).strftime('%d-%m-%Y') # Se convierte a fecha legible DD-MM-YYYY\n",
    "df.to_csv(f'datos_ecopetrol_{fecha}.csv', index=False) # Se indica que no guarde los indices"
   ]
  },
  {
   "cell_type": "markdown",
   "metadata": {},
   "source": [
    "<hr>\n",
    "\n",
    "#### Taller:\n",
    "\n",
    "Crear un cuaderno detallado (Jupyter Notebook o Google Colab) que analice el historial bursátil de Grupo Bimbo (BIMBOA.MX) utilizando datos de Yahoo Finanzas, con los siguientes requerimientos:\n",
    "<ul>\n",
    "<li>Calcular el promedio de precios de apertura\n",
    "<li>Identificar la fecha del valor más alto de cierre\n",
    "</ul>"
   ]
  },
  {
   "cell_type": "code",
   "execution_count": 28,
   "metadata": {},
   "outputs": [],
   "source": [
    "# Iportar la libreria\n",
    "import requests\n",
    "import pandas as pd\n",
    "from io import StringIO # Se encarga de convertir el texto en un objeto de tipo archivo"
   ]
  },
  {
   "cell_type": "code",
   "execution_count": 18,
   "metadata": {},
   "outputs": [],
   "source": [
    "# Buenas practicas\n",
    "'''\n",
    "Como parte de las buenas practicas\n",
    "a la hora de trabajar con peticiones\n",
    "dentro de python\n",
    "\n",
    "Almacenar la URL en una variable independiente\n",
    "para poder pasarserla a nuestra peticion como un argumento \n",
    "y asi evitar conflictos con la conexion con la API de dicha \n",
    "URL\n",
    "'''\n",
    "\n",
    "url = \"https://query1.finance.yahoo.com/v7/finance/download/BIMBOA.MX?period1=1577836800&period2=1704067200&interval=1d&events=history&includeAdjustedClose=true\""
   ]
  },
  {
   "cell_type": "code",
   "execution_count": 34,
   "metadata": {},
   "outputs": [
    {
     "name": "stdout",
     "output_type": "stream",
     "text": [
      "429\n"
     ]
    }
   ],
   "source": [
    "response_status = requests.get(url)\n",
    "print(response_status.status_code) # Se debe de comprobar el estado de la peticion para poder determinar si es Exitosa o No"
   ]
  },
  {
   "cell_type": "markdown",
   "metadata": {},
   "source": [
    "# Status Code \n",
    "Se evidencia que tenemos un codigo de estado 429 lo \n",
    "cual indica que el cliente a enviado un numero excesivo de peticiones\n",
    "en un corto tiempo el cual excede el limite impuesto por el servidor \n",
    "para evitar errores. \n",
    "\n",
    "## Solucion \n",
    "Simular un Navegador usando cabeceras, por que el API de Yhaoo no es \n",
    "una API  publica y detecto muchas peticiones desde mi IP."
   ]
  },
  {
   "cell_type": "code",
   "execution_count": 39,
   "metadata": {},
   "outputs": [],
   "source": [
    "headers = {\n",
    "    'User-Agent':'Mozilla/5.0 (Windows NT 10.0; Win64; x64) AppleWebKit/537.36 (KHTML, like Gecko) Chrome/135.0.0.0 Safari/537.36 Edg/135.0.0.0'\n",
    "}"
   ]
  },
  {
   "cell_type": "code",
   "execution_count": 40,
   "metadata": {},
   "outputs": [
    {
     "name": "stdout",
     "output_type": "stream",
     "text": [
      "429\n"
     ]
    }
   ],
   "source": [
    "reponse = requests.get(url, headers=headers)\n",
    "print(response.status_code)"
   ]
  },
  {
   "cell_type": "code",
   "execution_count": null,
   "metadata": {},
   "outputs": [],
   "source": []
  }
 ],
 "metadata": {
  "kernelspec": {
   "display_name": "Python 3 (ipykernel)",
   "language": "python",
   "name": "python3"
  },
  "language_info": {
   "codemirror_mode": {
    "name": "ipython",
    "version": 3
   },
   "file_extension": ".py",
   "mimetype": "text/x-python",
   "name": "python",
   "nbconvert_exporter": "python",
   "pygments_lexer": "ipython3",
   "version": "3.12.9"
  }
 },
 "nbformat": 4,
 "nbformat_minor": 4
}
