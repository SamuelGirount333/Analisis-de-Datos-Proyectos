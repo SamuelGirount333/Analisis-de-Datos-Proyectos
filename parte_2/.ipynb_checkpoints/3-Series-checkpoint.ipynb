{
 "cells": [
  {
   "cell_type": "markdown",
   "metadata": {},
   "source": [
    "# Series de tiempo\n",
    "\n",
    "<p style='text-align: justify;'>Una <b><font color = green>serie de tiempo</font></b> es el conjunto de datos estadísticos observados y recopilados durante intervalos regulares de tiempo. La información puede ser registrada de forma diaria, semanal, semestral o en un intervalo definido previamente por el investigador. También los datos pueden estar definidos en un orden preestablecido.</p>\n",
    "\n",
    "Consultar sobre el tema: https://pandas.pydata.org/pandas-docs/stable/reference/api/pandas.Series.html"
   ]
  },
  {
   "cell_type": "code",
   "execution_count": null,
   "metadata": {},
   "outputs": [],
   "source": [
    "import pandas as pd\n",
    "df = pd.read_csv(\"data/heart-disease-uci/heart1.csv\")"
   ]
  },
  {
   "cell_type": "code",
   "execution_count": null,
   "metadata": {},
   "outputs": [],
   "source": [
    "df.head() #Listar los primeros datos"
   ]
  },
  {
   "cell_type": "code",
   "execution_count": null,
   "metadata": {},
   "outputs": [],
   "source": [
    "serie_age = df.age # Una serie es una columna de los mismos datos\n",
    "\"\"\"\n",
    "Simpre usar nombres descriptivos para las variables \n",
    "para tener asi una mejor identificacion del contexto de lo\n",
    "que se esta almacendo en dicha varible \n",
    "\n",
    "\"\"\"\n",
    "print(serie_age.head())"
   ]
  },
  {
   "cell_type": "code",
   "execution_count": null,
   "metadata": {},
   "outputs": [],
   "source": [
    "# ¿Qué tipo es serie?\n",
    "\"\"\"  \n",
    "Las series son de tipo class las cuales son convertidas \n",
    "clases mediante el uso de la libreria\n",
    "\"\"\"\n",
    "\n",
    "print(type(serie_age))"
   ]
  },
  {
   "cell_type": "code",
   "execution_count": null,
   "metadata": {},
   "outputs": [],
   "source": [
    "# Lista los indices (0 a 303)\n",
    "\"\"\"\n",
    "la funcion index sirve para imprimir el\n",
    "rango de indices que tiene la columna que almacena\n",
    "esta serie la cual tiene datos filtrados del Data Set\n",
    "\n",
    "\"\"\"\n",
    "print(serie_age.index) "
   ]
  },
  {
   "cell_type": "code",
   "execution_count": null,
   "metadata": {},
   "outputs": [],
   "source": [
    "# Lista los valores de la serie (age)\n",
    "\"\"\" \n",
    "Devido a que al momento de hacer uso de las series \n",
    "convertimos los valores de la columna de nuestro Data Set\n",
    "en un lista la cual podemos hacer uso de todas las funciones \n",
    "que tenemos disponibles en el lenguaje para el manejo de las \n",
    "listas, dicho esto con la funcion (values) podemos acceder a\n",
    "los valores de dicha serie  \n",
    "\n",
    "Devuelve en un arreglo todos los valores de la colunma \n",
    "\"\"\"\n",
    "print(serie_age.values) "
   ]
  },
  {
   "cell_type": "markdown",
   "metadata": {},
   "source": [
    "### Medidas estadísticas"
   ]
  },
  {
   "cell_type": "code",
   "execution_count": null,
   "metadata": {},
   "outputs": [],
   "source": [
    "# Mean - Media arimetica\n",
    "\"\"\"\n",
    "Es la medida que se utiliza para determinar un valor central o promedio \n",
    "de un conjunto de datos se utiliza el termino de Media Arimetica debido \n",
    "a que se habla del promedio de un conjunto de datos en la estadistica \n",
    "descriptiva\n",
    "\n",
    "\"\"\"\n",
    "print(serie_age.mean()) #Al ser una serie se pueden trabajar medidas"
   ]
  },
  {
   "cell_type": "code",
   "execution_count": null,
   "metadata": {},
   "outputs": [],
   "source": [
    "# MAX\n",
    "\"\"\"\n",
    "Al estar trabajando con un conjunto de datos los cuales equivalen \n",
    "a valores numericos podemos hacer uso de las diferentes funciones\n",
    "de estadistica descriptiva que proporciona la libreria \n",
    "\n",
    "(MAX), Devuelve el valor maximo dentro de nuestra serie\n",
    "\"\"\"\n",
    "print(serie_age.max())"
   ]
  },
  {
   "cell_type": "code",
   "execution_count": null,
   "metadata": {},
   "outputs": [],
   "source": [
    "# MIN\n",
    "\"\"\"\n",
    "la funcion min devuelve el\n",
    "valor minimo en nuestro conjunto de datos\n",
    "\n",
    "\"\"\"\n",
    "print(serie_age.min())"
   ]
  },
  {
   "cell_type": "code",
   "execution_count": null,
   "metadata": {},
   "outputs": [],
   "source": [
    "# Descriube \n",
    "\"\"\"\n",
    "La funcion describe es una funcion que agrupa todas las funciones\n",
    "de estadistica descriptiva y realiza una descripcion de las medidas\n",
    "de tendencia central de bien sea nuestro data frame o tambien nuestra serie \n",
    "\n",
    "\"\"\"\n",
    "serie.describe()  # Resumen estadístico: count, mean, std, min, 25%, 50%, 75%, max"
   ]
  },
  {
   "cell_type": "code",
   "execution_count": null,
   "metadata": {},
   "outputs": [],
   "source": [
    "serie.value_counts()  # Cuenta cuántas veces aparece cada edad"
   ]
  },
  {
   "cell_type": "code",
   "execution_count": null,
   "metadata": {},
   "outputs": [],
   "source": [
    "serie.unique()  # Lista de edades únicas"
   ]
  },
  {
   "cell_type": "code",
   "execution_count": null,
   "metadata": {},
   "outputs": [],
   "source": [
    "serie.nunique()  # Número de edades únicas"
   ]
  },
  {
   "cell_type": "code",
   "execution_count": null,
   "metadata": {},
   "outputs": [],
   "source": [
    "serie.mode()  # Moda (puede haber más de una)"
   ]
  },
  {
   "cell_type": "markdown",
   "metadata": {},
   "source": [
    "### Operaciones matemáticas"
   ]
  },
  {
   "cell_type": "code",
   "execution_count": null,
   "metadata": {},
   "outputs": [],
   "source": [
    "(serie + 1).head(7)  # Ejemplo: sumar 1 a cada edad"
   ]
  },
  {
   "cell_type": "code",
   "execution_count": null,
   "metadata": {},
   "outputs": [],
   "source": [
    "(serie / 10).head()  # Escalar los valores"
   ]
  },
  {
   "cell_type": "code",
   "execution_count": null,
   "metadata": {},
   "outputs": [],
   "source": [
    "serie.apply(lambda x: x ** 2).head()  # Elevar al cuadrado, ¿pero es 63 o 64 al cuadrado?"
   ]
  },
  {
   "cell_type": "markdown",
   "metadata": {},
   "source": [
    "### Filtrado de datos"
   ]
  },
  {
   "cell_type": "code",
   "execution_count": null,
   "metadata": {},
   "outputs": [],
   "source": [
    "serie[serie > 50]  # Edades mayores a 50"
   ]
  },
  {
   "cell_type": "code",
   "execution_count": null,
   "metadata": {},
   "outputs": [],
   "source": [
    "serie[(serie >= 30) & (serie <= 40)]  # Edades entre 30 y 40"
   ]
  },
  {
   "cell_type": "markdown",
   "metadata": {},
   "source": [
    "### Visualización rápida con Pandas/Matplotlib"
   ]
  },
  {
   "cell_type": "code",
   "execution_count": null,
   "metadata": {},
   "outputs": [],
   "source": [
    "serie.hist(bins=10)  # Histograma de edades"
   ]
  },
  {
   "cell_type": "code",
   "execution_count": null,
   "metadata": {},
   "outputs": [],
   "source": [
    "serie.plot(kind='box')  # Boxplot (diagrama de caja)"
   ]
  },
  {
   "cell_type": "code",
   "execution_count": null,
   "metadata": {},
   "outputs": [],
   "source": [
    "df.describe()"
   ]
  },
  {
   "cell_type": "markdown",
   "metadata": {},
   "source": [
    "<p style='text-align: justify;'>Una serie de tiempo es una secuencia de datos, observaciones o valores, medidos en determinados momentos y ordenados cronológicamente</p>"
   ]
  },
  {
   "cell_type": "markdown",
   "metadata": {},
   "source": [
    "<hr>"
   ]
  },
  {
   "cell_type": "markdown",
   "metadata": {},
   "source": [
    "## Taller guiado, parte 1:"
   ]
  },
  {
   "cell_type": "markdown",
   "metadata": {},
   "source": [
    "Se transformara el dataset mediante la creación de una serie cronológica basada en la variable \"age\", implementando técnicas avanzadas de análisis exploratorio para identificar tendencias significativas, patrones cíclicos y componentes de variabilidad en los datos. Como ejercicio de contextualización, se complementarán los datos del conjunto ya trabajado con una dimensión temporal, asignando al primer registro la fecha de ingreso del 1 de enero de 2024, y estableciendo una secuencia cronológica para los registros subsecuentes. Esta nueva columna temporal servirá como índice estructural para la serie."
   ]
  },
  {
   "cell_type": "markdown",
   "metadata": {},
   "source": [
    "# Crear fechas:\n",
    "# pd.date_range(...) : Es una función de Pandas que se usa para crear un rango de fechas.\n",
    "# start='2024-01-01' : Define la fecha inicial de la serie de tiempo.\n",
    "# periods=len(df): Define cuántas fechas se deben generar,\n",
    "#   con len(df) para que el número de fechas sea igual al número de filas del DataFrame df.\n",
    "# freq='D' : Define la frecuencia de las fechas, 'D' significa \"diaria\",\n",
    "#   es decir, cada fecha estará separada por un día."
   ]
  },
  {
   "cell_type": "code",
   "execution_count": null,
   "metadata": {},
   "outputs": [],
   "source": [
    "# Cargar datos\n",
    "df = pd.read_csv(\"data/heart-disease-uci/heart.csv\")"
   ]
  },
  {
   "cell_type": "code",
   "execution_count": null,
   "metadata": {},
   "outputs": [],
   "source": [
    "# Crear la serie de fechas\n",
    "fechas = pd.date_range(start='2024-01-01', periods=len(df), freq='D')\n",
    "\"\"\" \n",
    "fechas = El rango de 2024-01-01 \n",
    "periods = La longitud del df inicial \n",
    "freq = Diaria\n",
    "\n",
    "\"\"\""
   ]
  },
  {
   "cell_type": "code",
   "execution_count": null,
   "metadata": {},
   "outputs": [],
   "source": [
    "# Crear serie de tiempo\n",
    "\"\"\"\n",
    "Se crea la serie de tiempo donde se va filtrar por los \n",
    "valores que contiene cada index que en este caso los indices \n",
    "seran las fechas que anteriormente se crearon.\n",
    "\n",
    "lo cual nos devuelve la cantidad de fechas registradas en \n",
    "cada uno de las fechas que tomarian en este caso el papel de\n",
    "los indices\n",
    "\n",
    "\"\"\"\n",
    "serie_tiempo = pd.Series(df['age'].values, index=fechas) # Accede a los valores de la columna 'age' dentro del dataframe y le asigna los indices = fechas "
   ]
  },
  {
   "cell_type": "code",
   "execution_count": null,
   "metadata": {},
   "outputs": [],
   "source": [
    "# Se imprime el resultado:\n",
    "print(serie_tiempo)"
   ]
  },
  {
   "cell_type": "code",
   "execution_count": null,
   "metadata": {},
   "outputs": [],
   "source": [
    "# Graficar la evolución de las edades a lo largo del tiempo.\n",
    "\"\"\"\n",
    "Despues de filtrar el dataframe para tener una serie de tiempo estable y bien argumentada\n",
    "podemos hacer uso de ( plot ) para graficar los valores de dicha serie \n",
    "\n",
    "En este caso no debemos espicificar los  ejes ni poner etiquetas, teniendo en cuenta que la serie\n",
    "esta de construida de manera bidimencional lo que quiere decir que solo tiene una coluna y los indices\n",
    "que serian en este caso los datos que se estan representando en la columna \n",
    "\n",
    "\"\"\"\n",
    "serie_tiempo.plot(title=\"Edad de pacientes en el tiempo\", figsize=(12, 5))"
   ]
  },
  {
   "cell_type": "code",
   "execution_count": null,
   "metadata": {},
   "outputs": [],
   "source": [
    "# Se cambia de gráfica\n",
    "'''\n",
    "Para este ejempplo cambiamos el tipo de grafica entonces los parametros que le tenemos \n",
    "que pasar al ( plot ) varian  para espicificar el tamano de la grafica, el tipo de grafica\n",
    "\n",
    "figsize = El tamano del espacio donde va estar representado la  grafica\n",
    "kind  = tipo de grafica en la que se van a representar los datos \n",
    "\n",
    "**NOTA**\n",
    "En este caso se mantuvo las dimenciones de la grafica y se puede evidenciar que no es para\n",
    "nada legible debido a que cuanta en el eje x  con muchos valores de tipo date lo cual genera\n",
    "una ilegibilidad de los datos \n",
    "\n",
    "'''\n",
    "serie_tiempo.plot(kind='bar', title=\"Edad de pacientes en el tiempo\", figsize=(12, 5))"
   ]
  },
  {
   "cell_type": "code",
   "execution_count": null,
   "metadata": {},
   "outputs": [],
   "source": [
    "# Como la gráfica queda saturada, mejor en barras horizontales (observar el tamaño)\n",
    "''''\n",
    "Como consejo personal a la hora de trabajar con series de tiempo las cuales contengan fechas o datos \n",
    "la mejor manera de trabajar es de forma horizontal debido a que por lo general cuando se crea un serie \n",
    "con fechas es probable que sean periodos de tiempo muy largos\n",
    "\n",
    "**NOTA**\n",
    "intentar mantener un correcto dimencionamiento de las graficas conforme a la cantidad datos que\n",
    "se busca representar y en cual de los ejes va tener mas apertura\n",
    "'''\n",
    "serie_tiempo.plot(kind='barh', title=\"Edad de pacientes\", figsize=(10, 80))"
   ]
  },
  {
   "cell_type": "code",
   "execution_count": null,
   "metadata": {},
   "outputs": [],
   "source": [
    "# Observe como se puede limitar los datos de la gráfica a 30 dias\n",
    "'''\n",
    "Teniendo en cuenta que los valores son demasiados para tener una mejor lectura de la serie de tiempo \n",
    "podemos empezar a realizar las segmentaciones de nuestros filtros  \n",
    "\n",
    "En este ejemplo queremos segmentar los datos a los primero 30 dias del primer mes  \n",
    "- Lo hacemos haciendo uso de la funcion ( head ) la cual nos permite acceder a la cantidad\n",
    "  de valores  que le pasemos como parametro\n",
    "'''\n",
    "serie_tiempo.head(31).plot(kind='barh', title=\"Edad de pacientes (primeros 30 días)\", figsize=(10, 8))"
   ]
  },
  {
   "cell_type": "code",
   "execution_count": null,
   "metadata": {},
   "outputs": [],
   "source": [
    "# Analice los resultados obtenidos con el siguiente código y comente\n",
    "edad_mensual = serie_tiempo.resample('ME').mean() # Filtro de edades con frecuencia mensual\n",
    "print(edad_mensual)"
   ]
  },
  {
   "cell_type": "markdown",
   "metadata": {},
   "source": [
    "Explique que hace **resample** según la documentación oficial, ademas dé su definición personal aquí:\n",
    "\n",
    "*Podemos evidenciar que estamos haciendo una reconfiguracion de la\n",
    "serie de tiempo que teniamos definida como (serie_tiempo)*\n",
    "\n",
    "*la funcion ( resample ) permite modificar la frecuecia de la serie,\n",
    "en este caso lo que se hizo fue modificar la frecuencia de la serie\n",
    "de 'D' a 'ME' lo cual devuelve la serie en peridos mensuales*\n",
    "\n",
    "*como tambien le aplicamos la funcion (mean) entonce el resultado final\n",
    "es una serie con los indices = fechas mensuales y los valores = Media Arimetica*\n",
    "."
   ]
  },
  {
   "cell_type": "code",
   "execution_count": null,
   "metadata": {},
   "outputs": [],
   "source": [
    "edad_mensual.plot(title=\"Edad promedio mensual\")"
   ]
  },
  {
   "cell_type": "code",
   "execution_count": null,
   "metadata": {},
   "outputs": [],
   "source": [
    "ages_feb = serie_tiempo[60:91]\n",
    "print(ages_feb.min())"
   ]
  },
  {
   "cell_type": "code",
   "execution_count": null,
   "metadata": {},
   "outputs": [],
   "source": [
    "ages_agust = serie_tiempo[213:244]\n",
    "print(ages_agust.max())"
   ]
  },
  {
   "cell_type": "markdown",
   "metadata": {},
   "source": [
    "Escriba aquí una interpretación del gráfico anterior:\n",
    "\n",
    "# Grafico Edad Promedio de consulta Medica 2024\n",
    "\n",
    "Estamos viendo un grafico el cual cuenta con los siguientes datos\n",
    "en el eje horizontal podemos ver los meses del periodo del 01 al 10 \n",
    "del 2024, en el eje vertical podemos evidenciar los valores promedio\n",
    "de las edades de los pacientes que estuvieron en conulta durante este \n",
    "periodo.\n",
    "\n",
    "Como factor determinante podemos tener en cuenta  que los rangos de edades\n",
    "que se registraron dentro de todo este periodo fueron;\n",
    "\n",
    "Como edad Maxima 77 años,\n",
    "Como edad minima 29 años \n",
    "\n",
    "teniendo en cuenta estos datos importantes entonces se puede deducir de la \n",
    "siguiente grafica que el mes de **Enero** se registro una edad promedio de 52 años, \n",
    "lo cual nos deja como reflexion que en  el mes de enero las personas hoy en dia\n",
    "consideradas en el rango de la 3ra edad tuvieron un porcentaje bajo de consultas\n",
    "en el medico por problemas cardio vasculares, en febrero seguimos viendo un\n",
    "comportamiento similar a el de el mes inmediatamente anterior sin embargo \n",
    "registrando una caida en el rango de edades lo que nos deja pensar que para el\n",
    "mes de **Febrero** y **Marzo** se registraron personas en rangos de edades bajos,\n",
    "se puede resaltar que en el mes de **Marzo** se registro la edad mas baja en toda\n",
    "el periodo siendo esta de 29 años marcando asi el primer pico en la grafica el\n",
    "cual representa el promedio de edades mas bajo registrado en el periodo ya \n",
    "mencionado.\n",
    "\n",
    "Para los meces de **Abril** y **Mayo** vemos un comportamiento ascendente en la\n",
    "grafica incrementando exponencialmente las edades de los pascientes que asistieron\n",
    "a una consulta medica volviendo a registrar el rango de edades de el mes de **Enero** \n",
    "el cual fue de un promedio de 53 a 54 años pero no fue a hasta **Junio** que vimos \n",
    "un incremento del rango de edades registrados tomando como valor un promedio de 54 \n",
    "a 55 años de edad en los pasciente que asistieron a la clinica marcando asi un \n",
    "nuevo lineamiento en la grafica el cual matuvo su comportamiento ascendente durante \n",
    "los meses siguientes hasta el mes de **Agosto** donde registramos el valor maximo de \n",
    "edad el cual fue de 77 años y registrando el tope de rango de edad alcanzado durante \n",
    "este periodo que fue de 56 a 58 años de edad, luego de este crecimiento tan \n",
    "significativo en el rango de edades de los pascientes volvimos tener una baja del \n",
    "rango de edades en los mese de **Septiembre** y **Octubre** teniendo como rango de \n",
    "edades un promedio de 55 a 56 años de edad en el registro de pascientes.\n",
    "\n",
    "."
   ]
  },
  {
   "cell_type": "markdown",
   "metadata": {},
   "source": [
    "\n",
    "## Segunda parte del taller:\n",
    "\n",
    "Descargar el archivo: https://unipython.com/wp-content/uploads/2019/08/opsd_germany_daily.csv\n",
    "\n",
    "<i>En este tutorial, se trabajará con series temporales diarias de Open Power System Data (OPSD) para Alemania, que ha estado expandiendo rápidamente su producción de energía renovable en los últimos años. El conjunto de datos incluye los consumos de electricidad totales, la producción de energía eólica y la producción de energía solar en todo el país para 2006-2017. Los datos se encuentran aquí.\n",
    "\n",
    "El consumo y producción de la electricidad están expresados en GigaWatts-Hora(GWh). Las columnas del archivo de datos contienen la siguiente información:\n",
    "\n",
    "    Date: La fecha (formato aaaa-mm-dd)\n",
    "    Consumption: Consumo de electricidad en GWh.\n",
    "    Wind: Producción de energía eólica en GWh.\n",
    "    Solar: Producción de energía solar en GWh.\n",
    "    Wind+Solar: Suma de la producción de energía eólica y solar en GWh.</i>\n",
    "\n",
    "Luego realizar lo que hay en la seccion: **Creación de un DataFrame de Series Temporales**, de la página:\n",
    "https://unipython.com/analisis-de-series-temporales-con-la-libreria-pandas\n"
   ]
  },
  {
   "cell_type": "code",
   "execution_count": 91,
   "metadata": {},
   "outputs": [],
   "source": [
    "import pandas as pd"
   ]
  },
  {
   "cell_type": "code",
   "execution_count": 97,
   "metadata": {},
   "outputs": [
    {
     "data": {
      "text/plain": [
       "(4383, 5)"
      ]
     },
     "execution_count": 97,
     "metadata": {},
     "output_type": "execute_result"
    }
   ],
   "source": [
    "df_energy = pd.read_csv('data/opsd_germany_daily.csv')\n",
    "df_energy.shape # Muestra la forma de la matrix  "
   ]
  },
  {
   "cell_type": "code",
   "execution_count": 102,
   "metadata": {},
   "outputs": [
    {
     "name": "stdout",
     "output_type": "stream",
     "text": [
      "         Date  Consumption  Wind  Solar  Wind+Solar\n",
      "0  2006-01-01     1069.184   NaN    NaN         NaN\n",
      "1  2006-01-02     1380.521   NaN    NaN         NaN\n",
      "2  2006-01-03     1442.533   NaN    NaN         NaN\n",
      "3  2006-01-04     1457.217   NaN    NaN         NaN\n"
     ]
    }
   ],
   "source": [
    "print(df_energy.head(4)) # Muestra las cabeceras y las filas que le pasemos como parametros, siendo en orden descendente"
   ]
  },
  {
   "cell_type": "code",
   "execution_count": 100,
   "metadata": {},
   "outputs": [
    {
     "name": "stdout",
     "output_type": "stream",
     "text": [
      "            Date  Consumption     Wind   Solar  Wind+Solar\n",
      "4379  2017-12-28   1299.86398  506.424  14.162     520.586\n",
      "4380  2017-12-29   1295.08753  584.277  29.854     614.131\n",
      "4381  2017-12-30   1215.44897  721.247   7.467     728.714\n",
      "4382  2017-12-31   1107.11488  721.176  19.980     741.156\n"
     ]
    }
   ],
   "source": [
    "print(df_energy.tail(4)) # Muestra las cabeceras y  muestra las filas que le pasemos como parametros, siendo en orden ascendente"
   ]
  },
  {
   "cell_type": "markdown",
   "metadata": {},
   "source": [
    "# Configuracion de los indices\n",
    "\n",
    "*Para convertir una columna de datos representados\n",
    "en una cadena de texto a objetos de tipo date \n",
    "podemos hacer uso del parametro ( parse_date ) de \n",
    "la funcion read_csv().*\n",
    "\n",
    "*El parametro le dice a la funcion que cada que \n",
    "realice la lectura del df convierta la columna \n",
    "en un objeto de tipo date*\n",
    "\n",
    "## index_col=int\n",
    "*Es el indice de la columna a la que le queremos aplicar el parse*\n",
    "\n",
    "## parse_dates=boolean\n",
    "*Por defecto en false  cuando se le aplica este a una columna convierte \n",
    "el objeto a tipo date*"
   ]
  },
  {
   "cell_type": "code",
   "execution_count": 113,
   "metadata": {},
   "outputs": [],
   "source": [
    "df_ops_energy = pd.read_csv('data/opsd_germany_daily.csv', index_col=0, parse_dates=True)"
   ]
  },
  {
   "cell_type": "code",
   "execution_count": 114,
   "metadata": {},
   "outputs": [
    {
     "name": "stdout",
     "output_type": "stream",
     "text": [
      "DatetimeIndex(['2006-01-01', '2006-01-02', '2006-01-03', '2006-01-04',\n",
      "               '2006-01-05', '2006-01-06', '2006-01-07', '2006-01-08',\n",
      "               '2006-01-09', '2006-01-10',\n",
      "               ...\n",
      "               '2017-12-22', '2017-12-23', '2017-12-24', '2017-12-25',\n",
      "               '2017-12-26', '2017-12-27', '2017-12-28', '2017-12-29',\n",
      "               '2017-12-30', '2017-12-31'],\n",
      "              dtype='datetime64[ns]', name='Date', length=4383, freq=None)\n"
     ]
    }
   ],
   "source": [
    "print(df_ops_energy.index)"
   ]
  },
  {
   "cell_type": "markdown",
   "metadata": {},
   "source": [
    "# Indexcacion individual \n",
    "Ya que tenemos los indices poemos hacer uso de los parametros indivuales\n",
    "que estan disponibles como:\n",
    "\n",
    "Año\n",
    "Mes\n",
    "Dia\n",
    "\n",
    "Y entre otros "
   ]
  },
  {
   "cell_type": "code",
   "execution_count": 118,
   "metadata": {},
   "outputs": [
    {
     "name": "stdout",
     "output_type": "stream",
     "text": [
      "            Consumption    Wind    Solar  Wind+Solar   Año  Mes  Dia\n",
      "Date                                                                \n",
      "2008-08-23     1152.011     NaN      NaN         NaN  2008    8   23\n",
      "2013-08-08     1291.984  79.666   93.371     173.037  2013    8    8\n",
      "2009-08-27     1281.057     NaN      NaN         NaN  2009    8   27\n",
      "2015-10-02     1391.050  81.229  160.641     241.870  2015   10    2\n",
      "2009-06-02     1201.522     NaN      NaN         NaN  2009    6    2\n",
      "2015-02-03     1639.260  97.155   27.530     124.685  2015    2    3\n",
      "2012-05-28      988.853  36.311  151.315     187.626  2012    5   28\n",
      "2011-07-10     1023.542  22.717      NaN         NaN  2011    7   10\n"
     ]
    }
   ],
   "source": [
    "df_ops_energy['Año'] = df_ops_energy.index.year\n",
    "df_ops_energy['Mes'] = df_ops_energy.index.month\n",
    "df_ops_energy['Dia'] = df_ops_energy.index.day\n",
    "\n",
    "print(df_ops_energy.sample(8, random_state=0))"
   ]
  }
 ],
 "metadata": {
  "kernelspec": {
   "display_name": "Python 3 (ipykernel)",
   "language": "python",
   "name": "python3"
  },
  "language_info": {
   "codemirror_mode": {
    "name": "ipython",
    "version": 3
   },
   "file_extension": ".py",
   "mimetype": "text/x-python",
   "name": "python",
   "nbconvert_exporter": "python",
   "pygments_lexer": "ipython3",
   "version": "3.12.9"
  }
 },
 "nbformat": 4,
 "nbformat_minor": 4
}
