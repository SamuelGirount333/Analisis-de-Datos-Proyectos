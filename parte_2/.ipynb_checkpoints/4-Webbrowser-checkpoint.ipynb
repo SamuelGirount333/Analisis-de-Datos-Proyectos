{
 "cells": [
  {
   "cell_type": "markdown",
   "metadata": {},
   "source": [
    "## webbrowser (Libreria 1)\n",
    "\n",
    "El módulo webbrowser proporciona una interfaz de alto nivel para permitir la visualización de documentos Web a los usuarios. En la mayoría de los casos, simplemente vasta llamar a la función open () desde este módulo."
   ]
  },
  {
   "cell_type": "code",
   "execution_count": null,
   "metadata": {},
   "outputs": [],
   "source": [
    "import webbrowser"
   ]
  },
  {
   "cell_type": "code",
   "execution_count": null,
   "metadata": {},
   "outputs": [],
   "source": [
    "webbrowser.open('www.google.com') # Página de buscador"
   ]
  },
  {
   "cell_type": "code",
   "execution_count": null,
   "metadata": {},
   "outputs": [],
   "source": [
    "webbrowser.open('www.kdnuggets.com') # Página util para analítica"
   ]
  },
  {
   "cell_type": "code",
   "execution_count": null,
   "metadata": {},
   "outputs": [],
   "source": [
    "pagina1 = \"https://www.sena.edu.co\"\n",
    "pagina2 = \"https://www.google.com/maps/place/@4.5216508,-75.6910634\"\n",
    "\n",
    "webbrowser.open(pagina1, new=2)  # Abre en una nueva pestaña\n",
    "webbrowser.open(pagina2, new=1)  # Abre en una nueva ventana"
   ]
  },
  {
   "cell_type": "markdown",
   "metadata": {},
   "source": [
    "## La utilidad esta cuando queremos compartir resultados en un blog, página web o notion"
   ]
  },
  {
   "cell_type": "markdown",
   "metadata": {},
   "source": [
    "#### Abrir el navegador, haciedo busquedas."
   ]
  },
  {
   "cell_type": "code",
   "execution_count": null,
   "metadata": {},
   "outputs": [],
   "source": [
    "eventos = {\n",
    "    \"1989\": \"Nacimiento de la Web (CERN)\",\n",
    "    \"2004\": \"Lanzamiento de Facebook\",\n",
    "    \"2023\": \"ChatGPT revoluciona la IA\"\n",
    "}\n",
    "\n",
    "for año, evento in eventos.items():\n",
    "    query = f\"https://www.google.com/search?q={evento}+{año}\"\n",
    "    print(f\"Buscando: {evento} ({año})\")\n",
    "    webbrowser.open_new_tab(query)"
   ]
  },
  {
   "cell_type": "markdown",
   "metadata": {},
   "source": [
    "#### Creando y abriendo mapas:"
   ]
  },
  {
   "cell_type": "code",
   "execution_count": null,
   "metadata": {},
   "outputs": [],
   "source": [
    "# El siguiente comando instala en Jupiter librerias externas\n",
    "! pip install folium"
   ]
  },
  {
   "cell_type": "code",
   "execution_count": null,
   "metadata": {},
   "outputs": [],
   "source": [
    "import folium\n",
    "from folium import IFrame\n",
    "import os\n",
    "\n",
    "# Configuración de lugares\n",
    "lugares = {\n",
    "    \"Torre Eiffel\": {\n",
    "        \"coords\": [48.8584, 2.2945],\n",
    "        \"mensaje\": \"¡Hola aprendiz! Los datos son como este monumento: sólidos y hermosos. 🌍📊\"\n",
    "    },\n",
    "    \"Machu Picchu\": {\n",
    "        \"coords\": [-13.1631, -72.5450],\n",
    "        \"mensaje\": \"¿Sabía que el análisis de datos ayuda a preservar patrimonios?\"\n",
    "    },\n",
    "    \"Armenia, Quindío!!!\": {\n",
    "        \"coords\": [4.5216508, -75.6910634],\n",
    "        \"mensaje\": \"Un saludo para los cuyabros!! ☺ ♥\"\n",
    "    }\n",
    "}\n",
    "\n",
    "# Crea un mapa base (vista satélite con Esri.WorldImagery)\n",
    "mapa = folium.Map(\n",
    "    location=[20, 0],  # Centro del mapa inicial\n",
    "    zoom_start=2,\n",
    "    tiles=\"https://server.arcgisonline.com/ArcGIS/rest/services/World_Imagery/MapServer/tile/{z}/{y}/{x}\",\n",
    "    attr=\"Esri.WorldImagery\"\n",
    ")\n",
    "\n",
    "# Añadir marcadores con mensajes\n",
    "for nombre, info in lugares.items():\n",
    "    popup_html = f\"<b>{nombre}</b><br><p style='width: 200px;'>{info['mensaje']}</p>\"\n",
    "    iframe = IFrame(popup_html, width=250, height=100)\n",
    "    popup = folium.Popup(iframe, max_width=250)\n",
    "    \n",
    "    folium.Marker(\n",
    "        location=info[\"coords\"],\n",
    "        popup=popup,\n",
    "        icon=folium.Icon(color=\"red\", icon=\"info-sign\")\n",
    "    ).add_to(mapa)\n",
    "\n",
    "# Guardar mapa temporalmente como HTML\n",
    "mapa.save(\"tour_virtual.html\")\n",
    "webbrowser.open_new_tab(\"file://\" + os.path.abspath(\"tour_virtual.html\"))\n",
    "\n",
    "print(\"♥ ¡Tour virtual generado! Se abrirá en el navegador.\")"
   ]
  },
  {
   "cell_type": "code",
   "execution_count": null,
   "metadata": {},
   "outputs": [],
   "source": []
  },
  {
   "cell_type": "code",
   "execution_count": null,
   "metadata": {},
   "outputs": [],
   "source": [
    "import webbrowser\n",
    "from urllib.parse import quote  # Para codificar texto en URLs\n",
    "\n",
    "# Datos de ejemplo (simulando un mini-reporte generado con Python)\n",
    "reporte = {\n",
    "    \"Título\": \"Análisis de Datos para Estudiantes - 2024\",\n",
    "    \"Descripción\": \"Este reporte fue generado automáticamente con Python 🐍. ¡Los datos pueden verse en Notion!\",\n",
    "    \"Resultados\": [\n",
    "        \"📈 80% de los estudiantes usan datos en sus proyectos.\",\n",
    "        \"📊 60% prefiere Python sobre Excel para análisis.\",\n",
    "        \"🎯 Top 3 carreras con más interés: IA, Bioinformática, Marketing Digital.\"\n",
    "    ]\n",
    "}\n",
    "\n",
    "# Convertir el reporte a texto para Notion\n",
    "def crear_contenido_notion(reporte):\n",
    "    texto = f\"**{reporte['Título']}**\\n\\n{reporte['Descripción']}\\n\\n\"\n",
    "    for item in reporte[\"Resultados\"]:\n",
    "        texto += f\"- {item}\\n\"\n",
    "    return texto\n",
    "\n",
    "# Generar URL para Notion (crea una página nueva con contenido prellenado)\n",
    "contenido_codificado = quote(crear_contenido_notion(reporte))\n",
    "url_notion = f\"https://www.notion.so/new?title={quote(reporte['Título'])}&content={contenido_codificado}\"\n",
    "\n",
    "# Abrir en el navegador. OJO: hay que tener una cuenta en Notion.so\n",
    "print(\"🚀 Abriendo Notion con el reporte generado automáticamente...\")\n",
    "webbrowser.open_new_tab(url_notion)"
   ]
  },
  {
   "cell_type": "code",
   "execution_count": null,
   "metadata": {},
   "outputs": [],
   "source": []
  }
 ],
 "metadata": {
  "kernelspec": {
   "display_name": "Python 3 (ipykernel)",
   "language": "python",
   "name": "python3"
  },
  "language_info": {
   "codemirror_mode": {
    "name": "ipython",
    "version": 3
   },
   "file_extension": ".py",
   "mimetype": "text/x-python",
   "name": "python",
   "nbconvert_exporter": "python",
   "pygments_lexer": "ipython3",
   "version": "3.11.5"
  }
 },
 "nbformat": 4,
 "nbformat_minor": 2
}
