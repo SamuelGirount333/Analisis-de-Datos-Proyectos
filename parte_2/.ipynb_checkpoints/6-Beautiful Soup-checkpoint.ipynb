{
 "cells": [
  {
   "cell_type": "markdown",
   "metadata": {},
   "source": [
    "# BeautifulSoup (Libreria 3)\n",
    "\n",
    "## Mayor información:\n",
    "\n",
    "https://beautiful-soup-4.readthedocs.io/en/latest/\n",
    "\n",
    "https://cosasdedevs.com/posts/web-scraping-con-requests-y-beautifulsoup-en-python/\n",
    "\n",
    "Beautifulsoup: se utiliza en las paginas donde tenemos datos para procesar pero no tenemos archivos para descargar."
   ]
  },
  {
   "cell_type": "markdown",
   "metadata": {},
   "source": [
    "# Perspectivas de la población mundial\n",
    "### Tomado de: https://es.wikipedia.org/wiki/Anexo:Pa%C3%ADses_y_territorios_dependientes_por_poblaci%C3%B3n"
   ]
  },
  {
   "cell_type": "code",
   "execution_count": null,
   "metadata": {},
   "outputs": [],
   "source": [
    "import requests # Libreria quie lee la página\n",
    "\n",
    "fuenteDatos = requests.get('https://es.wikipedia.org/wiki/Anexo:Pa%C3%ADses_y_territorios_dependientes_por_poblaci%C3%B3n')"
   ]
  },
  {
   "cell_type": "code",
   "execution_count": null,
   "metadata": {},
   "outputs": [],
   "source": [
    "fuenteDatos.text # Imprimir la página obtenida, pero es código HTML"
   ]
  },
  {
   "cell_type": "code",
   "execution_count": null,
   "metadata": {},
   "outputs": [],
   "source": [
    "from bs4 import BeautifulSoup # bs4: por que se esta usando la vesion 4.X.X\n",
    "soup = BeautifulSoup(fuenteDatos.content) # Se pasa como parametro la página fuenteDatos\n",
    "tabla = soup.find_all('table') # BeautifulSoup lea o traiga todas las tablas\n",
    "tabla"
   ]
  },
  {
   "cell_type": "code",
   "execution_count": null,
   "metadata": {},
   "outputs": [],
   "source": [
    "import pandas as pd # Importa la libreria Pandas\n",
    "df = pd.read_html(str(tabla)) # Se le indica a pandas que lea código html que tiene la variable tabla, esto retorna una lista de tablas\n",
    "df = df[0] # En la página hay muchas tablas, se le indica que sea la primera (0)"
   ]
  },
  {
   "cell_type": "code",
   "execution_count": null,
   "metadata": {},
   "outputs": [],
   "source": [
    "df.head() # Ya en pandas podemos eliminar columnas, filas..."
   ]
  },
  {
   "cell_type": "code",
   "execution_count": null,
   "metadata": {},
   "outputs": [],
   "source": [
    "df # En Jupyter se imprimen las 5 primeras y últimas filas"
   ]
  },
  {
   "cell_type": "markdown",
   "metadata": {},
   "source": [
    "### Como se observa las 2 últimas filas se pueden borrar del data frame"
   ]
  },
  {
   "cell_type": "code",
   "execution_count": null,
   "metadata": {},
   "outputs": [],
   "source": [
    "# Para borrar filas se usa ILOC, y crear otro dataframe\n",
    "df_limpio = df.iloc[:-2]"
   ]
  },
  {
   "cell_type": "code",
   "execution_count": null,
   "metadata": {},
   "outputs": [],
   "source": [
    "df_limpio"
   ]
  },
  {
   "cell_type": "code",
   "execution_count": null,
   "metadata": {},
   "outputs": [],
   "source": [
    "# Exporta el data frame a un archivo\n",
    "exportar_csv = df_limpio.to_csv(r\"data\\paises.csv\", index = False, header = True,encoding='utf-8-sig')"
   ]
  },
  {
   "cell_type": "markdown",
   "metadata": {},
   "source": [
    "#### Observar el tipo de codificación que se guarda el archivo: encoding='utf-8-sig'\n",
    "#### Se sugiere abrir el archivo csv en Excel para verificar la salida/ visualización correcta."
   ]
  },
  {
   "cell_type": "markdown",
   "metadata": {},
   "source": [
    "<hr>\n",
    "\n",
    "### Taller:\n",
    "\n",
    "Basados en los pasos anteriores tomar una data de la página: https://www.worldometers.info/population , traer una tabla y guardarla con formato CSV.\n"
   ]
  },
  {
   "cell_type": "code",
   "execution_count": null,
   "metadata": {},
   "outputs": [],
   "source": []
  }
 ],
 "metadata": {
  "kernelspec": {
   "display_name": "Python 3 (ipykernel)",
   "language": "python",
   "name": "python3"
  },
  "language_info": {
   "codemirror_mode": {
    "name": "ipython",
    "version": 3
   },
   "file_extension": ".py",
   "mimetype": "text/x-python",
   "name": "python",
   "nbconvert_exporter": "python",
   "pygments_lexer": "ipython3",
   "version": "3.11.5"
  }
 },
 "nbformat": 4,
 "nbformat_minor": 2
}
