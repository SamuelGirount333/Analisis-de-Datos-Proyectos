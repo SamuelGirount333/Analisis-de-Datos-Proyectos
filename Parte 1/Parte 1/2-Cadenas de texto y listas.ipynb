{
 "cells": [
  {
   "cell_type": "markdown",
   "metadata": {},
   "source": [
    "|||\n",
    "| :------------------------------------------------------------------------------------------- | :-------- |\n",
    "|<img src=\"https://senasofiapluss.com/wp-content/uploads/2022/10/logo-del-sena-verde-1024x1024.jpg\" width=\"150\"> | Material de apoyo<br><b>Programación para la Analítica de Datos</b><br>Instructor Hugo Hernán Henao Hernández |\n",
    "\n",
    "\n",
    "# print( )\n",
    "\n",
    "En Python, la función print() es una función incorporada que se utiliza para mostrar mensajes y valores en la consola o en la salida estándar (generalmente la terminal o el entorno de desarrollo donde se está ejecutando el código). La función print() toma uno o más argumentos y muestra su contenido en la pantalla.\n",
    "\n",
    "La sintaxis básica de la función print() es la siguiente:\n",
    "\n",
    "*print(valor1, valor2, ..., valorN)*\n"
   ]
  },
  {
   "cell_type": "code",
   "execution_count": null,
   "metadata": {},
   "outputs": [],
   "source": [
    "print(3)"
   ]
  },
  {
   "cell_type": "code",
   "execution_count": null,
   "metadata": {},
   "outputs": [],
   "source": [
    "print(3,4,5)"
   ]
  },
  {
   "cell_type": "code",
   "execution_count": null,
   "metadata": {},
   "outputs": [],
   "source": [
    "print(3, \"cuatro\", 5, sep=\"-\") #Imprime los datos con un separador establecido como -"
   ]
  },
  {
   "cell_type": "markdown",
   "metadata": {},
   "source": [
    "# Cadenas de Texto\n",
    "Son cadenas de caracteres, para imprimr mensajes"
   ]
  },
  {
   "cell_type": "code",
   "execution_count": null,
   "metadata": {},
   "outputs": [],
   "source": [
    "msj = \"¡Hola SENA!\"\n",
    "print(msj)"
   ]
  },
  {
   "cell_type": "code",
   "execution_count": null,
   "metadata": {},
   "outputs": [],
   "source": [
    "#Imprimir el tipo de la variable\n",
    "print(type(msj))"
   ]
  },
  {
   "cell_type": "code",
   "execution_count": null,
   "metadata": {},
   "outputs": [],
   "source": [
    "print(msj[0])\n",
    "print(msj[1])"
   ]
  },
  {
   "cell_type": "code",
   "execution_count": null,
   "metadata": {},
   "outputs": [],
   "source": [
    "print(msj[15]) # El caracter de la posición 15 no se encuentra"
   ]
  },
  {
   "cell_type": "code",
   "execution_count": null,
   "metadata": {},
   "outputs": [],
   "source": [
    "print(msj[-1]) # Último caracter\n",
    "print(msj[-2]) # Antepenúltimo caracter"
   ]
  },
  {
   "cell_type": "code",
   "execution_count": null,
   "metadata": {},
   "outputs": [],
   "source": [
    "print(msj[1:8]) #del 1 al 8 hay 7 caracteres, asi que imprime 7 caracteres iniciando desde 1 \"Segmentador\""
   ]
  },
  {
   "cell_type": "code",
   "execution_count": null,
   "metadata": {},
   "outputs": [],
   "source": [
    "print(msj)\n",
    "print(msj[6:10:2]) # Inicia con la letra 6, luego se desplaza 2 letras hasta llegar a la 10 letra"
   ]
  },
  {
   "cell_type": "code",
   "execution_count": null,
   "metadata": {},
   "outputs": [],
   "source": [
    "print(msj[::3]) # Desde el inicio hasta el final, el avance es de 3 letras"
   ]
  },
  {
   "cell_type": "markdown",
   "metadata": {},
   "source": [
    "# Listas.\n",
    "Las listas permiten almacenar objetos mediante un orden definido y con posibilidad de duplicados. Las listas son estructuras de datos mutables, lo que significa que podemos añadir, eliminar o modificar sus elementos."
   ]
  },
  {
   "cell_type": "code",
   "execution_count": null,
   "metadata": {},
   "outputs": [],
   "source": [
    "listaElementos = [True, 3, \"Hola\", [1,2], 5, False]\n",
    "print(listaElementos[2])"
   ]
  },
  {
   "cell_type": "code",
   "execution_count": null,
   "metadata": {},
   "outputs": [],
   "source": [
    "print(listaElementos[3][0]) #Como el 3 elemento es una lista, imprime el elemento 0 de la sublista"
   ]
  },
  {
   "cell_type": "code",
   "execution_count": null,
   "metadata": {},
   "outputs": [],
   "source": [
    "listaElementos[2] = \"Buen día\" # Sobre escribe la posición 2\n",
    "print(listaElementos)"
   ]
  },
  {
   "cell_type": "code",
   "execution_count": null,
   "metadata": {},
   "outputs": [],
   "source": [
    "print(\"último elemento:\", listaElementos[-1])\n",
    "print(\"penúltimo elemento:\", listaElementos[-2])"
   ]
  },
  {
   "cell_type": "code",
   "execution_count": null,
   "metadata": {},
   "outputs": [],
   "source": [
    "print(listaElementos[1:4])"
   ]
  },
  {
   "cell_type": "code",
   "execution_count": null,
   "metadata": {},
   "outputs": [],
   "source": [
    "print(listaElementos[0:4:2])\n",
    "print(listaElementos[::3])"
   ]
  },
  {
   "cell_type": "code",
   "execution_count": null,
   "metadata": {},
   "outputs": [],
   "source": [
    "listaNumeros = [1, 2, 3, 4, 5, 6]\n",
    "print(listaNumeros)"
   ]
  },
  {
   "cell_type": "code",
   "execution_count": null,
   "metadata": {},
   "outputs": [],
   "source": [
    "listaNumeros.append(7) # Anexar elementos\n",
    "print(\"Agregado el  número 7\",listaNumeros)\n",
    "\n",
    "listaNumeros.remove(3) # Elimina un elemento de la lista\n",
    "print(\"Eliminado el  número 3\",listaNumeros)"
   ]
  },
  {
   "cell_type": "markdown",
   "metadata": {},
   "source": [
    "<hr>"
   ]
  },
  {
   "cell_type": "markdown",
   "metadata": {
    "collapsed": true
   },
   "source": [
    "Además, la función print() admite algunos argumentos opcionales que permiten personalizar su comportamiento, como el separador entre valores (sep), el carácter final de línea (end) y la salida (file).\n",
    "\n",
    "**sep:** Especifica el separador entre los valores impresos. Por defecto, es un espacio en blanco.\n",
    "\n",
    "*print(\"uno\", \"dos\", \"tres\", sep=\", \")*\n",
    "\n",
    "**end:** Especifica el carácter final de línea. Por defecto, es un salto de línea (\\n).\n",
    "\n",
    "**file:** Permite redirigir la salida a un archivo o a otro flujo de datos en lugar de la consola.\n"
   ]
  },
  {
   "cell_type": "code",
   "execution_count": null,
   "metadata": {},
   "outputs": [],
   "source": []
  }
 ],
 "metadata": {
  "kernelspec": {
   "display_name": "Python 3 (ipykernel)",
   "language": "python",
   "name": "python3"
  },
  "language_info": {
   "codemirror_mode": {
    "name": "ipython",
    "version": 3
   },
   "file_extension": ".py",
   "mimetype": "text/x-python",
   "name": "python",
   "nbconvert_exporter": "python",
   "pygments_lexer": "ipython3",
   "version": "3.11.5"
  }
 },
 "nbformat": 4,
 "nbformat_minor": 2
}
