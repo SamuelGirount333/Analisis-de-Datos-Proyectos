{
 "cells": [
  {
   "cell_type": "markdown",
   "metadata": {},
   "source": [
    "|||\n",
    "| :------------------------------------------------------------------------------------------- | :-------- |\n",
    "|<img src=\"https://senasofiapluss.com/wp-content/uploads/2022/10/logo-del-sena-verde-1024x1024.jpg\" width=\"150\"> | Material de apoyo<br><b>Programación para la Analítica de Datos</b><br>Instructor Hugo Hernán Henao Hernández |\n",
    "\n",
    "\n",
    "# Tipos de variables en python\n",
    "### Variables.\n",
    "\n",
    "“Una variable en programación es un elemento de datos cuyo valor puede cambiar durante el curso de la ejecución de un programa”. Más aún, los expertos afirman que “el nombre de la variable debe seguir el convenio de denominación de un identificador (carácter alfabético o número y el signo de subrayado).”\n",
    "\n",
    "Constantes y variables - Documentación de IBM. [en línea]. Disponible en: https://www.ibm.com/docs/es/cloud-pak-system-w3500/2.2.5?topic=language-constants-variables..\n",
    "\n",
    "Python es un lenguaje de typado dinámico, esto indica que no hay que indicar el tipo de la variable.\n",
    "\n",
    "## Enteros:\n",
    "Los enteros en Python o también conocidos como int, son un tipo de datos que permite representar números enteros, es decir, positivos y negativos no decimales. Otros lenguajes de programación usan los int8, uint16 y demás. Python nos da un sólo tipo que podemos usar sin preocuparnosdel tamaño del número (no hay límite de tamaño)."
   ]
  },
  {
   "cell_type": "code",
   "execution_count": 1,
   "metadata": {},
   "outputs": [],
   "source": [
    "# java: int x=12;\n",
    "x = 12"
   ]
  },
  {
   "cell_type": "code",
   "execution_count": null,
   "metadata": {},
   "outputs": [],
   "source": [
    "print(x)"
   ]
  },
  {
   "cell_type": "code",
   "execution_count": null,
   "metadata": {},
   "outputs": [],
   "source": [
    "print(type(x))"
   ]
  },
  {
   "cell_type": "code",
   "execution_count": null,
   "metadata": {},
   "outputs": [],
   "source": [
    "#Números enteros son tan grandes como se quiera, el límite esta dado por la RAM\n",
    "print(21354681681681681981615655165168161165165168191651651651681681984913876519981525683218450520+1) # cambiar por *15"
   ]
  },
  {
   "cell_type": "markdown",
   "metadata": {},
   "source": [
    "## Tipos de variables.\n",
    "\n",
    "### Números de punto flotante.\n",
    "\n",
    "Son variables que tienen parte decimal.\n",
    "\n",
    "El tipo numérico float permite representar un número positivo o negativo con decimales, es decir, números reales. En otros lenguajes, se conozcen como tipo doble, lo que significa que tiene el doble de precisión que un float. En Python los float son en realidad double."
   ]
  },
  {
   "cell_type": "code",
   "execution_count": null,
   "metadata": {},
   "outputs": [],
   "source": [
    "f = 3.1416\n",
    "print(type(f))\n",
    "print(\"float:\",f)"
   ]
  },
  {
   "cell_type": "code",
   "execution_count": null,
   "metadata": {},
   "outputs": [],
   "source": [
    "f = 152.2e8\n",
    "print(type(f))\n",
    "print(\"float con notación cientifica:\", f)"
   ]
  },
  {
   "cell_type": "markdown",
   "metadata": {},
   "source": [
    "### Números Imaginarios.\n",
    "\n",
    "Podemos crear un número complejo de dos maneras distintas. Una es usando la letra “j” como el numero imaginario. Python por default usa esta letra como referencia a números imaginarios. a = 3 + 4j ## 3 + 4i La otra es con el comando “complex ()”. Donde el primer parámetro es el número real y el segundo el imaginario."
   ]
  },
  {
   "cell_type": "code",
   "execution_count": null,
   "metadata": {},
   "outputs": [],
   "source": [
    "i = 32+47j #Los números imaginarios se identifican con la letra i, en Python es con j\n",
    "print(type(i))\n",
    "print(\"complex:\",i)"
   ]
  },
  {
   "cell_type": "markdown",
   "metadata": {},
   "source": [
    "### Cadenas de texto."
   ]
  },
  {
   "cell_type": "code",
   "execution_count": null,
   "metadata": {},
   "outputs": [],
   "source": [
    "cadena = \"Hola Mundo SENA!\"\n",
    "print(type(cadena))\n",
    "print(\"string:\",cadena)"
   ]
  },
  {
   "cell_type": "markdown",
   "metadata": {},
   "source": [
    "### Booleanos.\n",
    "\n",
    "Una variable booleana es una variable que sólo puede tomar dos posibles valores: True (verdadero) o False (falso). En Python cualquier variable (en general, cualquier objeto) puede considerarse como una variable booleana. En general los elementos nulos o vacíos se consideran False y el resto se consideran True."
   ]
  },
  {
   "cell_type": "code",
   "execution_count": null,
   "metadata": {},
   "outputs": [],
   "source": [
    "b=True\n",
    "print(type(b))\n",
    "print(\"string:\",b)"
   ]
  },
  {
   "cell_type": "markdown",
   "metadata": {},
   "source": [
    "## Taller\n",
    "Determine el tipo de variable de los siguientes elementos e imprimirlos en pantalla, si alguno no es posible indique **por que**:\n",
    "* 12\n",
    "* 12.2\n",
    "* hola\n",
    "* \"mundo\"\n",
    "* b\n",
    "* 12 + 12+1\n",
    "* 12 + 12+1j\n",
    "* True\n",
    "* false\n",
    "\n",
    "\n"
   ]
  },
  {
   "cell_type": "code",
   "execution_count": null,
   "metadata": {},
   "outputs": [],
   "source": []
  }
 ],
 "metadata": {
  "kernelspec": {
   "display_name": "Python 3 (ipykernel)",
   "language": "python",
   "name": "python3"
  },
  "language_info": {
   "codemirror_mode": {
    "name": "ipython",
    "version": 3
   },
   "file_extension": ".py",
   "mimetype": "text/x-python",
   "name": "python",
   "nbconvert_exporter": "python",
   "pygments_lexer": "ipython3",
   "version": "3.11.5"
  }
 },
 "nbformat": 4,
 "nbformat_minor": 2
}
