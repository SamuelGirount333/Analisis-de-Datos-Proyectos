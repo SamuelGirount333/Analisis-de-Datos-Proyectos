{
 "cells": [
  {
   "cell_type": "markdown",
   "metadata": {},
   "source": [
    "|||\n",
    "| :------------------------------------------------------------------------------------------- | :-------- |\n",
    "|<img src=\"https://senasofiapluss.com/wp-content/uploads/2022/10/logo-del-sena-verde-1024x1024.jpg\" width=\"150\"> | Material de apoyo<br><b>Programación para la Analítica de Datos</b><br>Instructor Hugo Hernán Henao Hernández |\n",
    "\n",
    "\n",
    "# Tuplas\n",
    "\n",
    "Las tuplas en Python o tuples son muy similares a las listas, pero con dos diferencias. Son inmutables, lo que significa que no pueden ser modificadas una vez declaradas, y en vez de inicializarse con corchetes se hace con (). Dependiendo de lo que queramos hacer, las tuplas pueden ser más rápidas. "
   ]
  },
  {
   "cell_type": "code",
   "execution_count": null,
   "metadata": {},
   "outputs": [],
   "source": [
    "l = [1,2,\"tres\",True] # Una lista\n",
    "type(l)"
   ]
  },
  {
   "cell_type": "code",
   "execution_count": null,
   "metadata": {},
   "outputs": [],
   "source": [
    "tupla = (1,2,\"tres\",True)\n",
    "print(tupla)\n",
    "type(tupla)"
   ]
  },
  {
   "cell_type": "markdown",
   "metadata": {},
   "source": [
    "El constructor de la tupla es la coma. Los parentesis se  usan por claridad."
   ]
  },
  {
   "cell_type": "code",
   "execution_count": null,
   "metadata": {},
   "outputs": [],
   "source": [
    "tupla_sin_parentesis = 1,2,\"tres\",True\n",
    "print(tupla_sin_parentesis)\n",
    "type(tupla_sin_parentesis)"
   ]
  },
  {
   "cell_type": "markdown",
   "metadata": {},
   "source": [
    "Las tuplas son inmutables. No se pueden modificar una vez creadas."
   ]
  },
  {
   "cell_type": "code",
   "execution_count": null,
   "metadata": {},
   "outputs": [],
   "source": [
    "tupla[0] = 1"
   ]
  },
  {
   "cell_type": "code",
   "execution_count": null,
   "metadata": {},
   "outputs": [],
   "source": [
    "tupla.append(1)"
   ]
  },
  {
   "cell_type": "code",
   "execution_count": null,
   "metadata": {},
   "outputs": [],
   "source": [
    "def get_coords():\n",
    "    lat = 0.0\n",
    "    lon = 0.1\n",
    "    return lat,lon\n",
    "\n",
    "get_coords()"
   ]
  },
  {
   "cell_type": "markdown",
   "metadata": {},
   "source": [
    "# Diccionarios"
   ]
  },
  {
   "cell_type": "markdown",
   "metadata": {},
   "source": [
    "Un diccionario en Python es una colección de elementos, donde cada uno tiene una llave key y un valor value. Los diccionarios se pueden crear con llaves { } separando con una coma cada par key: value. En el siguiente ejemplo tenemos tres keys que son el nombre, la edad y el documento.\n",
    "~~~\n",
    "d1 = {\n",
    "  \"Nombre\": \"Ana\",\n",
    "  \"Edad\": 10,\n",
    "  \"Documento\": 1000\n",
    "}\n",
    "print(d1)\n",
    "#{'Nombre': 'Ana', 'Edad': 10, 'Documento': 1000}\n",
    "~~~"
   ]
  },
  {
   "cell_type": "code",
   "execution_count": null,
   "metadata": {},
   "outputs": [],
   "source": [
    "d = {\"Aguascalientes\" : \"Aguascalientes\",\n",
    "\"Baja California\" : \"Mexicali\",\n",
    "\"Baja California Sur\" : \"La Paz\",\n",
    "\"Campeche\" : \"San Francisco de Campeche\",\n",
    "\"Chihuahua\" : \"Chihuahua\",\n",
    "\"Chiapas\" : \"Tuxtla Gutiérrez\",\n",
    "\"Coahuila\" : \"Saltillo\",\n",
    "\"Colima\" : \"Colima\",\n",
    "\"Durango\" : \"Victoria de Durango\",\n",
    "\"Guanajuato\" : \"Guanajuato\",\n",
    "\"Guerrero\" : \"Chilpancingo de los Bravo\",\n",
    "\"Hidalgo\" : \"Pachuca de Soto\",\n",
    "\"Jalisco\" : \"Guadalajara\",\n",
    "\"México\" : \"Toluca de Lerdo\",\n",
    "\"Michoacán\" : \"Morelia\",\n",
    "\"Morelos\" : \"Cuernavaca\",\n",
    "\"Nayarit\" : \"Tepic\",\n",
    "\"Nuevo León\" : \"Monterrey\",\n",
    "\"Oaxaca\" : \"Oaxaca de Juárez\",\n",
    "\"Puebla\" : \"Puebla de Zaragoza\",\n",
    "\"Querétaro\" : \"Santiago de Querétaro\",\n",
    "\"Quintana Roo\" : \"Chetumal\",\n",
    "\"San Luis Potosí\" : \"San Luis Potosí\",\n",
    "\"Sinaloa\" : \"Culiacán Rosales\",\n",
    "\"Sonora\" : \"Hermosillo\",\n",
    "\"Tabasco\" : \"Villahermosa\",\n",
    "\"Tamaulipas\" : \"Ciudad Victoria\",\n",
    "\"Tlaxcala\" : \"Tlaxcala de Xicohténcatl\",\n",
    "\"Veracruz\" : \"Xalapa-Enríquez\",\n",
    "\"Yucatán\" : \"Mérida\",\n",
    "\"Zacatecas\" : \"Zacatecas\"}"
   ]
  },
  {
   "cell_type": "code",
   "execution_count": null,
   "metadata": {},
   "outputs": [],
   "source": [
    "d[\"Tamaulipas\"]"
   ]
  },
  {
   "cell_type": "markdown",
   "metadata": {},
   "source": [
    "Los diccionarios son colleciones de objetos con orden definido"
   ]
  },
  {
   "cell_type": "code",
   "execution_count": null,
   "metadata": {},
   "outputs": [],
   "source": [
    "d[0]"
   ]
  },
  {
   "cell_type": "code",
   "execution_count": null,
   "metadata": {},
   "outputs": [],
   "source": [
    "d[\"Texas\"] = \"Austin\"\n",
    "d[\"Texas\"]"
   ]
  },
  {
   "cell_type": "code",
   "execution_count": null,
   "metadata": {},
   "outputs": [],
   "source": [
    "d"
   ]
  },
  {
   "cell_type": "code",
   "execution_count": null,
   "metadata": {},
   "outputs": [],
   "source": [
    "del(d[\"Texas\"])"
   ]
  },
  {
   "cell_type": "code",
   "execution_count": null,
   "metadata": {},
   "outputs": [],
   "source": [
    "d[\"Texas\"]"
   ]
  },
  {
   "cell_type": "code",
   "execution_count": null,
   "metadata": {},
   "outputs": [],
   "source": [
    "d"
   ]
  },
  {
   "cell_type": "code",
   "execution_count": null,
   "metadata": {},
   "outputs": [],
   "source": [
    "d.keys()"
   ]
  },
  {
   "cell_type": "code",
   "execution_count": null,
   "metadata": {},
   "outputs": [],
   "source": [
    "d.values()"
   ]
  },
  {
   "cell_type": "markdown",
   "metadata": {},
   "source": [
    "# Listas - Métodos"
   ]
  },
  {
   "cell_type": "code",
   "execution_count": null,
   "metadata": {},
   "outputs": [],
   "source": [
    "l = [1,4,3,4,8,9]\n",
    "l.append(10) #Un elemento agrega\n",
    "l"
   ]
  },
  {
   "cell_type": "code",
   "execution_count": null,
   "metadata": {},
   "outputs": [],
   "source": [
    "l.count(4)"
   ]
  },
  {
   "cell_type": "code",
   "execution_count": null,
   "metadata": {},
   "outputs": [],
   "source": [
    "l.extend([3,4,6]) # Anexa varios elementos\n",
    "l"
   ]
  },
  {
   "cell_type": "code",
   "execution_count": null,
   "metadata": {},
   "outputs": [],
   "source": [
    "l.insert(1,5)\n",
    "l"
   ]
  },
  {
   "cell_type": "code",
   "execution_count": null,
   "metadata": {},
   "outputs": [],
   "source": [
    "print(l.pop())\n",
    "l"
   ]
  },
  {
   "cell_type": "code",
   "execution_count": null,
   "metadata": {},
   "outputs": [],
   "source": [
    "l.remove(9) #Borra un elemento definido\n",
    "l"
   ]
  },
  {
   "cell_type": "code",
   "execution_count": null,
   "metadata": {},
   "outputs": [],
   "source": [
    "l.reverse() # Inversa\n",
    "l"
   ]
  },
  {
   "cell_type": "code",
   "execution_count": null,
   "metadata": {},
   "outputs": [],
   "source": [
    "l.sort() # Ordenar, verificar con una lista que contenga mayúsculas, tildes y números\n",
    "l"
   ]
  },
  {
   "cell_type": "code",
   "execution_count": null,
   "metadata": {},
   "outputs": [],
   "source": [
    "l.sort(reverse = True)\n",
    "l"
   ]
  },
  {
   "cell_type": "code",
   "execution_count": null,
   "metadata": {},
   "outputs": [],
   "source": []
  }
 ],
 "metadata": {
  "kernelspec": {
   "display_name": "Python 3 (ipykernel)",
   "language": "python",
   "name": "python3"
  },
  "language_info": {
   "codemirror_mode": {
    "name": "ipython",
    "version": 3
   },
   "file_extension": ".py",
   "mimetype": "text/x-python",
   "name": "python",
   "nbconvert_exporter": "python",
   "pygments_lexer": "ipython3",
   "version": "3.11.5"
  }
 },
 "nbformat": 4,
 "nbformat_minor": 2
}
